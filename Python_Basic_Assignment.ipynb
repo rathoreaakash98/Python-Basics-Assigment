{
  "nbformat": 4,
  "nbformat_minor": 0,
  "metadata": {
    "colab": {
      "provenance": []
    },
    "kernelspec": {
      "name": "python3",
      "display_name": "Python 3"
    },
    "language_info": {
      "name": "python"
    }
  },
  "cells": [
    {
      "cell_type": "code",
      "execution_count": null,
      "metadata": {
        "id": "YWs0tHt2FJEb"
      },
      "outputs": [],
      "source": []
    },
    {
      "cell_type": "markdown",
      "source": [
        "# Python Basics Assignment"
      ],
      "metadata": {
        "id": "HyjaqMfxOYVl"
      }
    },
    {
      "cell_type": "markdown",
      "source": [
        "# Theory Questions"
      ],
      "metadata": {
        "id": "YCieJXYOOaRk"
      }
    },
    {
      "cell_type": "markdown",
      "source": [
        "1 What is Python, and why is it popular?"
      ],
      "metadata": {
        "id": "BPTP2PrjFyh5"
      }
    },
    {
      "cell_type": "markdown",
      "source": [
        "Python is a popular programming language because it's easy to learn, versatile, and open-source. It's used for many applications, including web development, data science, machine learning, and the Internet of Things"
      ],
      "metadata": {
        "id": "ez-cHz-EF-l6"
      }
    },
    {
      "cell_type": "markdown",
      "source": [
        "2.What is an interpreter in Python?"
      ],
      "metadata": {
        "id": "IWq5fXiUGTdD"
      }
    },
    {
      "cell_type": "markdown",
      "source": [
        "A Python interpreter is a program that reads and executes Python code. It translates Python code into instructions that the computer can understand."
      ],
      "metadata": {
        "id": "XfT1HDLOHBaG"
      }
    },
    {
      "cell_type": "markdown",
      "source": [
        "3.What are pre-defined keywords in Python?"
      ],
      "metadata": {
        "id": "-ASvGJl8HkYI"
      }
    },
    {
      "cell_type": "markdown",
      "source": [
        "Predefined keywords in Python are reserved words that have specific meanings and can't be used for other purposes."
      ],
      "metadata": {
        "id": "m_EoQeBhICTE"
      }
    },
    {
      "cell_type": "markdown",
      "source": [
        "4.Can keywords be used as variable names?"
      ],
      "metadata": {
        "id": "GRg03U3MJRtM"
      }
    },
    {
      "cell_type": "markdown",
      "source": [
        "No, we cannot use keywords as variable names in Python. Keywords are used to define the structure and syntax of the Python language."
      ],
      "metadata": {
        "id": "0V9qBBWBJntn"
      }
    },
    {
      "cell_type": "markdown",
      "source": [
        "5.What is mutability in Python ?"
      ],
      "metadata": {
        "id": "HzwptZIdJ3Rc"
      }
    },
    {
      "cell_type": "markdown",
      "source": [
        "In Python, \"mutability\" refers to the ability of an object to be changed or modified after it has been created; essentially, a mutable object can have its contents altered without creating a new object in memory, while an immutable object cannot be changed once initialized."
      ],
      "metadata": {
        "id": "z8VMGdvLKRLS"
      }
    },
    {
      "cell_type": "markdown",
      "source": [
        "6.Why are lists mutable, but tuples are immutable?"
      ],
      "metadata": {
        "id": "S6gIrdh_KZot"
      }
    },
    {
      "cell_type": "markdown",
      "source": [
        "The main difference between tuples and lists is that tuples are immutable, meaning their contents cannot be changed after creation, while lists are mutable and can be modified. Additionally, tuples are more memory-efficient compared to lists. Tuples can't be changed after they're created, but lists can be modified."
      ],
      "metadata": {
        "id": "gfJ_-v9sKxkq"
      }
    },
    {
      "cell_type": "markdown",
      "source": [
        "7.What is the difference between “==” and “is” operators in Python?"
      ],
      "metadata": {
        "id": "apHionFOK44_"
      }
    },
    {
      "cell_type": "markdown",
      "source": [
        "is' operator is used to compare the identities of two objects, '==' is used to compare their values. T"
      ],
      "metadata": {
        "id": "iKVz68WjLNhQ"
      }
    },
    {
      "cell_type": "markdown",
      "source": [
        "8.What are logical operators in Python?"
      ],
      "metadata": {
        "id": "KeMy675DL8nq"
      }
    },
    {
      "cell_type": "markdown",
      "source": [
        "Logical operators in Python are symbols or words that evaluate whether a condition is true or false. They are used to combine conditional statements."
      ],
      "metadata": {
        "id": "pedAQ16KMIN4"
      }
    },
    {
      "cell_type": "markdown",
      "source": [
        "9.What is type casting in Python?"
      ],
      "metadata": {
        "id": "D55onr8WMUUX"
      }
    },
    {
      "cell_type": "markdown",
      "source": [
        "Type casting, also known as type conversion, is the process of changing a variable's data type to another data type in Python."
      ],
      "metadata": {
        "id": "8fkiScy-MggG"
      }
    },
    {
      "cell_type": "markdown",
      "source": [
        "10. What is the difference between implicit and explicit type casting?"
      ],
      "metadata": {
        "id": "f3lYWSoaMkyt"
      }
    },
    {
      "cell_type": "markdown",
      "source": [
        "Implicit type casting happens automatically, while explicit type casting requires the programmer to intervene."
      ],
      "metadata": {
        "id": "3nDWRpNaMzdc"
      }
    },
    {
      "cell_type": "markdown",
      "source": [
        "11.What is the purpose of conditional statements in Python?"
      ],
      "metadata": {
        "id": "QLhzTIWYM0wN"
      }
    },
    {
      "cell_type": "markdown",
      "source": [
        "The purpose of conditional statements in Python is to control the flow of a program by running or skipping blocks of code based on conditions."
      ],
      "metadata": {
        "id": "7yz7WBtpNIJX"
      }
    },
    {
      "cell_type": "markdown",
      "source": [
        "12.How does the elif statement work?"
      ],
      "metadata": {
        "id": "Gpt16apkNJeQ"
      }
    },
    {
      "cell_type": "markdown",
      "source": [
        "The “elif” keyword in Python, stands for “else if”. It can be used in conditional statements to check for multiple conditions."
      ],
      "metadata": {
        "id": "gyCeyNGFNV4O"
      }
    },
    {
      "cell_type": "markdown",
      "source": [
        "13.What is the difference between for and while loops?"
      ],
      "metadata": {
        "id": "xssWcRjMNfdO"
      }
    },
    {
      "cell_type": "markdown",
      "source": [
        "In programming, a for loop is used to repeat a block of code a known number of times, while a while loop repeats it an unknown number of times."
      ],
      "metadata": {
        "id": "WLTqDEVQNqyM"
      }
    },
    {
      "cell_type": "markdown",
      "source": [
        "14.Describe a scenario where a while loop is more suitable than a for loop."
      ],
      "metadata": {
        "id": "IuPk3AERN2U1"
      }
    },
    {
      "cell_type": "markdown",
      "source": [
        "In contrast to a 'for' loop, which is generally used when the number of iterations is known beforehand, a 'while' loop is ideal for situations where the number of iterations is not predetermined and depends on some dynamic condition."
      ],
      "metadata": {
        "id": "i1TjWlvyOIwU"
      }
    },
    {
      "cell_type": "markdown",
      "source": [
        "# Practical Questions"
      ],
      "metadata": {
        "id": "NzMOtg0FOMjg"
      }
    },
    {
      "cell_type": "code",
      "source": [
        "#Write a Python program to print \"Hello, World!"
      ],
      "metadata": {
        "id": "8yiVsLzROwQ7"
      },
      "execution_count": null,
      "outputs": []
    },
    {
      "cell_type": "code",
      "source": [
        "print(\"Hello, World!\")"
      ],
      "metadata": {
        "colab": {
          "base_uri": "https://localhost:8080/"
        },
        "id": "dQ4unJl-O15b",
        "outputId": "0fda7756-5c54-46cf-b616-62eca1a1b025"
      },
      "execution_count": null,
      "outputs": [
        {
          "output_type": "stream",
          "name": "stdout",
          "text": [
            "Hello, World!\n"
          ]
        }
      ]
    },
    {
      "cell_type": "code",
      "source": [
        "#Write a Python program that displays your name and age?"
      ],
      "metadata": {
        "id": "r4GV7LOuPJmD"
      },
      "execution_count": null,
      "outputs": []
    },
    {
      "cell_type": "code",
      "source": [
        "name = 'James'\n",
        "age = 34\n",
        "print(name, \" is \", age, \" years old.\")"
      ],
      "metadata": {
        "colab": {
          "base_uri": "https://localhost:8080/"
        },
        "id": "AUk3MEMKPR5-",
        "outputId": "74292ab8-7f4d-44c7-e59c-b1ced3c8aee2"
      },
      "execution_count": null,
      "outputs": [
        {
          "output_type": "stream",
          "name": "stdout",
          "text": [
            "James  is  34  years old.\n"
          ]
        }
      ]
    },
    {
      "cell_type": "code",
      "source": [
        "#Write code to print all the pre-defined keywords in Python using the keyword library?"
      ],
      "metadata": {
        "id": "Q5T63WzpP3tV"
      },
      "execution_count": null,
      "outputs": []
    },
    {
      "cell_type": "code",
      "source": [
        "import keyword\n",
        "print"
      ],
      "metadata": {
        "colab": {
          "base_uri": "https://localhost:8080/"
        },
        "id": "AUBgoye_QCMS",
        "outputId": "b418b7db-2223-4c77-8374-c52bc3d09964"
      },
      "execution_count": null,
      "outputs": [
        {
          "output_type": "execute_result",
          "data": {
            "text/plain": [
              "<function print(*args, sep=' ', end='\\n', file=None, flush=False)>"
            ]
          },
          "metadata": {},
          "execution_count": 5
        }
      ]
    },
    {
      "cell_type": "code",
      "source": [
        "#Write a program that checks if a given word is a Python keyword?"
      ],
      "metadata": {
        "id": "7HnA8A0VQuQo"
      },
      "execution_count": null,
      "outputs": []
    },
    {
      "cell_type": "code",
      "source": [
        "import keyword\n",
        "word = 'if'\n",
        "if keyword.iskeyword(word):\n",
        "    print(f\"{word} is a Python keyword.\")\n",
        "else:\n",
        "    print(f\"{word} is not a Python keyword.\")"
      ],
      "metadata": {
        "colab": {
          "base_uri": "https://localhost:8080/"
        },
        "id": "mSxnNTvoQ7CD",
        "outputId": "7cb87ccb-9f0d-4be2-ec33-4aa3cffd5bd1"
      },
      "execution_count": null,
      "outputs": [
        {
          "output_type": "stream",
          "name": "stdout",
          "text": [
            "if is a Python keyword.\n"
          ]
        }
      ]
    },
    {
      "cell_type": "code",
      "source": [
        "#Create a list and tuple in Python, and demonstrate how attempting to change an element works differently\n",
        "for each"
      ],
      "metadata": {
        "id": "a3KuEGSsSR6m"
      },
      "execution_count": null,
      "outputs": []
    },
    {
      "cell_type": "code",
      "source": [
        "my_list = [1, 2, 3, 4, 5]\n",
        "my_tuple = (1, 2, 3, 4, 5)\n",
        "#modifying list\n",
        "my_list[0] = 10\n",
        "print(my_list)\n",
        "\n",
        "#trying to modifying tuple\n",
        "try:\n",
        "    my_tuple[0] = 10\n",
        "except TypeError as e:\n",
        "    print(f\"Error: {e}\")"
      ],
      "metadata": {
        "id": "kWkaaTLJSaMH"
      },
      "execution_count": null,
      "outputs": []
    },
    {
      "cell_type": "code",
      "source": [
        "#Write a function to demonstrate the behavior of mutable and immutable arguments"
      ],
      "metadata": {
        "id": "4VHR2nO3TwOp"
      },
      "execution_count": null,
      "outputs": []
    },
    {
      "cell_type": "code",
      "source": [
        "def modify_list(lst):\n",
        "    lst.append(4)\n",
        "\n",
        "def modify_string(s):\n",
        "    s+= \" world\"\n",
        "\n",
        "my_list = [1, 2, 3]\n",
        "my_string = \"Hello\"\n",
        "\n",
        "modify_list(my_list)\n",
        "print(\"Modified list :\", my_list)\n",
        "modify_string(my_string)\n",
        "print(\"Modified string :\", my_string)"
      ],
      "metadata": {
        "id": "Afc1Yp8XUUzv"
      },
      "execution_count": null,
      "outputs": []
    },
    {
      "cell_type": "code",
      "source": [
        "#Write a program to demonstrate the use of logical operators"
      ],
      "metadata": {
        "id": "v2fQAtobWHeM"
      },
      "execution_count": null,
      "outputs": []
    },
    {
      "cell_type": "code",
      "source": [
        "x= True\n",
        "y = False\n",
        "print(\"x and y:\"  x and y)\n",
        "print(\"x or y:\"  x or y)\n",
        "print(\"not x:\"  not x"
      ],
      "metadata": {
        "id": "pfiKA3dfWO5o"
      },
      "execution_count": null,
      "outputs": []
    },
    {
      "cell_type": "code",
      "source": [
        "# Write a Python program to convert user input from string to integer, float, and boolean types"
      ],
      "metadata": {
        "id": "1qvTRhfQX6AE"
      },
      "execution_count": null,
      "outputs": []
    },
    {
      "cell_type": "code",
      "source": [
        "user_input=input(\"Enter a number:\")\n",
        "int_val= int(user_input)\n",
        "float_val= float(user_input)\n",
        "bool_val= bool(user_input)\n",
        "print(\"Integer value:\", int_val)\n",
        "print(\"Float value:\", float_val)\n",
        "print(\"Boolean value:\", bool_val"
      ],
      "metadata": {
        "id": "NgRYXh8hYCBK"
      },
      "execution_count": null,
      "outputs": []
    },
    {
      "cell_type": "code",
      "source": [
        "#Write code to demonstrate type casting with list elements\n"
      ],
      "metadata": {
        "id": "dS-4GkDuZlml"
      },
      "execution_count": null,
      "outputs": []
    },
    {
      "cell_type": "code",
      "source": [
        "str_list = [\"1\", \"2\", \"3\", \"4\", \"5\"]\n",
        "int_list = list(map(int, str_list))\n",
        "print(List of integers:\", int_list)"
      ],
      "metadata": {
        "id": "A9XntYG8aXYh"
      },
      "execution_count": null,
      "outputs": []
    },
    {
      "cell_type": "code",
      "source": [
        " Write a program that checks if a number is positive, negative, or zero"
      ],
      "metadata": {
        "id": "T66ZIcSaaY8l"
      },
      "execution_count": null,
      "outputs": []
    },
    {
      "cell_type": "code",
      "source": [
        "num = float(input(\"Enter a number: \"))\n",
        "if num > 0:\n",
        "    print(\"Positive.\")\n",
        "elif num < 0:\n",
        "    print(\"Negative.\")\n",
        "else:\n",
        "    print(\"Zero.\")"
      ],
      "metadata": {
        "id": "pVnnhTnEahtC"
      },
      "execution_count": null,
      "outputs": []
    },
    {
      "cell_type": "code",
      "source": [
        "#Write a for loop to print numbers from 1 to 100"
      ],
      "metadata": {
        "id": "snO-DIVDXFtZ"
      },
      "execution_count": null,
      "outputs": []
    },
    {
      "cell_type": "code",
      "source": [
        "for i in range(1,101):\n",
        "    print(i)"
      ],
      "metadata": {
        "id": "2vEY-8RVSLOp"
      },
      "execution_count": null,
      "outputs": []
    },
    {
      "cell_type": "code",
      "source": [
        "#Write a Python program to find the sum of all even numbers between 1 and 50"
      ],
      "metadata": {
        "id": "y99AYb7CcFfn"
      },
      "execution_count": null,
      "outputs": []
    },
    {
      "cell_type": "code",
      "source": [
        "total = 0\n",
        "for i in range(2, 51, 2):\n",
        "    total += i\n",
        "print(\"Sum of even numbers between 1 and 50:\", total)"
      ],
      "metadata": {
        "id": "jGLv9wwpcK-z"
      },
      "execution_count": null,
      "outputs": []
    },
    {
      "cell_type": "code",
      "source": [
        "#Write a program to reverse a string using a while loop"
      ],
      "metadata": {
        "id": "WlwYNS1Ic0pG"
      },
      "execution_count": null,
      "outputs": []
    },
    {
      "cell_type": "code",
      "source": [
        "string = input (\"Enter a string: \")\n",
        "reversed_string = \"\"\n",
        "length = len(string)\n",
        "while length > 0:\n",
        "    reversed_string += string[length - 1]\n",
        "    length -= 1\n",
        "print(\"Reversed string:\", reversed_string)"
      ],
      "metadata": {
        "id": "dpT1MSPxc70h"
      },
      "execution_count": null,
      "outputs": []
    },
    {
      "cell_type": "code",
      "source": [
        "#Write a Python program to calculate the factorial of a number provided by the user using a while loop."
      ],
      "metadata": {
        "id": "KA4AXQ1ZeeYR"
      },
      "execution_count": null,
      "outputs": []
    },
    {
      "cell_type": "code",
      "source": [
        "num =int(input(Enter a number: ))\n",
        "factorial = 1\n",
        "i = 1\n",
        "while i <= num:\n",
        "    factorial *= i\n",
        "    i += 1\n",
        "print(\"Factorial of\", num, \"is\", factorial"
      ],
      "metadata": {
        "id": "hNfS9xP2fDpP"
      },
      "execution_count": null,
      "outputs": []
    }
  ]
}